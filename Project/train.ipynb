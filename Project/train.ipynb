{
 "cells": [
  {
   "cell_type": "code",
   "execution_count": null,
   "metadata": {},
   "outputs": [],
   "source": [
    "# Import libraries\n",
    "import os  # For interacting with the file system\n",
    "import shutil  # For managing files and directories in a cross-platform manner\n",
    "import keras  # For building deep learning models\n",
    "import numpy as np  # For numerical operations on arrays\n",
    "from glob import glob  # For finding file paths\n",
    "from tqdm import tqdm  # For progress bars\n",
    "\n",
    "# Data preprocessing\n",
    "from keras.preprocessing.image import ImageDataGenerator  # For image data augmentation\n",
    "\n",
    "# Data visualization\n",
    "import seaborn as sns  # For statistical visualizations\n",
    "import plotly.graph_objs as go  # For interactive visualizations\n",
    "import matplotlib.pyplot as plt  # For creating static plots\n",
    "\n",
    "# Model architecture\n",
    "from keras import Sequential  # For building sequential models\n",
    "from keras.models import load_model  # For loading pre-trained models\n",
    "from keras.layers import Dense, GlobalAvgPool2D as GAP, Dropout  # For defining model layers\n",
    "\n",
    "# Training callbacks\n",
    "from keras.callbacks import ModelCheckpoint, EarlyStopping  # For training callbacks\n",
    "\n",
    "# Pre-trained models\n",
    "from tensorflow.keras.applications import InceptionV3, Xception, ResNet152V2  # For using pre-trained models"
   ]
  }
 ],
 "metadata": {
  "language_info": {
   "name": "python"
  }
 },
 "nbformat": 4,
 "nbformat_minor": 2
}
